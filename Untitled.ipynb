{
 "cells": [
  {
   "cell_type": "markdown",
   "metadata": {},
   "source": [
    "# Lab 6: Confidence Intervals "
   ]
  },
  {
   "cell_type": "markdown",
   "metadata": {},
   "source": [
    "### Problem 1\n",
    "The first problem is to look at your background distribution and determine where the 5𝜎 sensitivity threshold is.<br>\n",
    "<br>\n",
    "We will first generate a simulated LHC Poisson background distribution with mean as 100. Then we will determine where the 5-sigma sensitivity threshold is. "
   ]
  },
  {
   "cell_type": "code",
   "execution_count": null,
   "metadata": {},
   "outputs": [],
   "source": [
    "import scipy\n",
    "from scipy import stats\n",
    "import matplotlib\n",
    "import matplotlib.pyplot as plt\n",
    "import numpy as np\n",
    "\n",
    "\n",
    "plt.rcParams[\"figure.figsize\"] = (15,10)"
   ]
  },
  {
   "cell_type": "code",
   "execution_count": null,
   "metadata": {},
   "outputs": [],
   "source": [
    "d = stats.poisson.rvs(100, size = 100000)\n",
    "fig, ax = plt.subplots(1, 1)\n",
    "ax.hist(d, 250, density=True)\n",
    "plt.tick_params(labelsize = 18)\n",
    "plt.xlabel(\"Number of Events\", size= 18)\n",
    "plt.ylabel(\"Probability\", size=18)\n",
    "plt.title('Simulated LHC Background Distribution', size = 25)\n",
    "plt.yscale('log')\n",
    "plt.show()"
   ]
  },
  {
   "cell_type": "code",
   "execution_count": null,
   "metadata": {},
   "outputs": [],
   "source": [
    "prob= stats.norm.cdf(5)\n",
    "sig = stats.poisson.ppf(prob, mu =100)\n",
    "print(\"Signal strength: \" + str(sig))"
   ]
  },
  {
   "cell_type": "markdown",
   "metadata": {},
   "source": [
    "Simulating data with roughly 100,000 point Poisson distribution results in a mean around 100 (number of events, here, it is the number of particles detected in the LHC). We determined the 5-sigma signal treshold to be 154."
   ]
  },
  {
   "cell_type": "markdown",
   "metadata": {},
   "source": [
    "### Problem 2"
   ]
  },
  {
   "cell_type": "code",
   "execution_count": null,
   "metadata": {},
   "outputs": [],
   "source": [
    "prob= stats.norm.cdf(8)\n",
    "sig = stats.poisson.ppf(prob, mu =100)\n",
    "print(\"Signal strength: \" + str(sig))"
   ]
  },
  {
   "cell_type": "markdown",
   "metadata": {},
   "source": [
    "Instead of determining the 5-sigma treshold we will determine the 8-sigma threshold. Here, we get a signal strength of 190 which will be injected into our background data of 100k. "
   ]
  },
  {
   "cell_type": "code",
   "execution_count": null,
   "metadata": {},
   "outputs": [],
   "source": [
    "noise = np.random.normal(100,8,10000)\n",
    "noisy_data = noise + 190\n",
    "\n",
    "fig, ax = plt.subplots(1, 1)\n",
    "ax.hist(noisy_data, 250, density=True)\n",
    "plt.tick_params(labelsize = 18)\n",
    "plt.xlabel(\"Number of Events\", size= 18)\n",
    "plt.ylabel(\"Probability\", size=18)\n",
    "plt.title('Observed Signal Distribution with Injected Signal of 190 ', size = 25)\n",
    "plt.yscale('log')\n",
    "plt.show()"
   ]
  },
  {
   "cell_type": "code",
   "execution_count": null,
   "metadata": {},
   "outputs": [],
   "source": [
    "data = np.append(noisy_data,d)\n",
    "fig, ax = plt.subplots(1,1)\n",
    "ax.hist(data,density=True,bins=100)\n",
    "ax.set_yscale('log')\n",
    "plt.xlabel(\"Number of Events\", size= 18)\n",
    "plt.ylabel(\"Probability\", size=18)\n",
    "plt.title('Observed Signal Distribution with Injected Signal of 190 ', size = 25)"
   ]
  },
  {
   "cell_type": "markdown",
   "metadata": {},
   "source": [
    "Observing the plots above, we can see that the mean of the observed signal is around 290 while the mean of the injected signal (190) is around 100. That said, the observed signal is not centered around the injected signals. The observed signal is somewhat symmetric, but the observed signal is stronger than the injected signal."
   ]
  },
  {
   "cell_type": "markdown",
   "metadata": {},
   "source": [
    "### Problem 3"
   ]
  },
  {
   "cell_type": "markdown",
   "metadata": {},
   "source": [
    "Now make a suite of injected signals. You will want to have a range of injected signal strengths, starting at zero and extending well above 5𝜎 (30𝜎 or more). \n",
    "<br>\n",
    "a) Clearly state what you are simulating, and make a 2D histogram of injected signal vs. observed data\n",
    "<br>\n",
    "b) For the same injected signal power as in problem 2, show that you get the same answer.\n",
    "<br>\n",
    "c) Now reverse the problem, select an observed data value (pick something quite a bit stronger than 5𝜎) and create a 1D histogram of the true signal probability given the observed data. Describe the meaning of this histogram.\n",
    "<br>\n",
    "d) For your observed signal, what is the 1𝜎 uncertainty on the true signal strength?\n",
    "<br>\n",
    "e) Discuss the answer to part d in some depth. Is it symmetric? Is it biased? Does this make sense?"
   ]
  }
 ],
 "metadata": {
  "kernelspec": {
   "display_name": "Python 3",
   "language": "python",
   "name": "python3"
  },
  "language_info": {
   "codemirror_mode": {
    "name": "ipython",
    "version": 3
   },
   "file_extension": ".py",
   "mimetype": "text/x-python",
   "name": "python",
   "nbconvert_exporter": "python",
   "pygments_lexer": "ipython3",
   "version": "3.7.6"
  }
 },
 "nbformat": 4,
 "nbformat_minor": 4
}
