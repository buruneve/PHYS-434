{
 "cells": [
  {
   "cell_type": "markdown",
   "metadata": {},
   "source": [
    "# Homework 3"
   ]
  },
  {
   "cell_type": "markdown",
   "metadata": {},
   "source": [
    "## Problem 1"
   ]
  },
  {
   "cell_type": "code",
   "execution_count": 6,
   "metadata": {},
   "outputs": [],
   "source": [
    "import pandas as pd"
   ]
  },
  {
   "cell_type": "markdown",
   "metadata": {},
   "source": [
    "1 a) Which algorithm makes fewest mistakes? <br>\n",
    "The second algorithm makes fewest mistakes because it makes a total of 8 mistakes, whereas, the second algorithm has a total of 12 mistakes <br>\n",
    "<br>\n",
    "1 b) Which algorithm is better for the zoo? Explain. <br>\n",
    "The second algorithm is better for the zoo because it has fewer false person identifications allowing less birds to escape. Identifying a person as a bird is ok, but identifying a bird as a person lets it escape. <br>\n",
    "<br>\n",
    "1 c) "
   ]
  },
  {
   "cell_type": "code",
   "execution_count": 23,
   "metadata": {},
   "outputs": [
    {
     "name": "stdout",
     "output_type": "stream",
     "text": [
      "          True Bird True Person\n",
      "NN Bird          91           7\n",
      "NN Person         1           1\n"
     ]
    }
   ],
   "source": [
    "data = {'True Bird':  ['91', '1'],\n",
    "        'True Person': ['7', '1'],}\n",
    "\n",
    "df = pd.DataFrame (data, columns = ['True Bird','True Person'], index=['NN Bird', 'NN Person' ])\n",
    "\n",
    "print (df)"
   ]
  },
  {
   "cell_type": "code",
   "execution_count": 21,
   "metadata": {},
   "outputs": [
    {
     "name": "stdout",
     "output_type": "stream",
     "text": [
      "          True Bird True Person\n",
      "NA Bird          88          10\n",
      "NA Person         1           1\n"
     ]
    }
   ],
   "source": [
    "data = {'True Bird':  ['88', '1'],\n",
    "        'True Person': ['10', '1'],}\n",
    "\n",
    "df = pd.DataFrame (data, columns = ['True Bird','True Person'], index=['NA Bird', 'NA Person' ])\n",
    "\n",
    "print (df)"
   ]
  },
  {
   "cell_type": "markdown",
   "metadata": {},
   "source": [
    "## Problem 2"
   ]
  },
  {
   "cell_type": "markdown",
   "metadata": {},
   "source": [
    "2 a) summing two identical exponential distributions results in an exponential distribution. <br>\n",
    "2 b) The ratio of two zero-mean unity variance distrubitions X1/X2 results in a Cauchy-Lorentz distribution. <br>\n",
    "2 c) The pdf of 2-d Gaussian distrubition is a Rayleigh distribution"
   ]
  },
  {
   "cell_type": "code",
   "execution_count": null,
   "metadata": {},
   "outputs": [],
   "source": []
  }
 ],
 "metadata": {
  "kernelspec": {
   "display_name": "Python 3",
   "language": "python",
   "name": "python3"
  },
  "language_info": {
   "codemirror_mode": {
    "name": "ipython",
    "version": 3
   },
   "file_extension": ".py",
   "mimetype": "text/x-python",
   "name": "python",
   "nbconvert_exporter": "python",
   "pygments_lexer": "ipython3",
   "version": "3.7.6"
  }
 },
 "nbformat": 4,
 "nbformat_minor": 4
}
